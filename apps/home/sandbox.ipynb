{
 "cells": [
  {
   "cell_type": "code",
   "execution_count": 4,
   "metadata": {},
   "outputs": [],
   "source": [
    "from dataclasses import dataclass\n",
    "import dataclasses\n",
    "\n",
    "from datetime import datetime\n",
    "\n",
    "@dataclass\n",
    "class Feature:\n",
    " origin : str\n",
    " name : str \n",
    " updated_at : str \n",
    " created_at : str \n",
    " dag : str \n",
    " source : str \n",
    " des : str"
   ]
  },
  {
   "cell_type": "code",
   "execution_count": 3,
   "metadata": {},
   "outputs": [
    {
     "ename": "AttributeError",
     "evalue": "'function' object has no attribute 'fields'",
     "output_type": "error",
     "traceback": [
      "\u001b[0;31m---------------------------------------------------------------------------\u001b[0m",
      "\u001b[0;31mAttributeError\u001b[0m                            Traceback (most recent call last)",
      "\u001b[1;32m/Users/wanermiranda/projects/owl-dash2/markI/owl_mark_i/apps/home/sandbox.ipynb Cell 2'\u001b[0m in \u001b[0;36m<module>\u001b[0;34m\u001b[0m\n\u001b[0;32m----> <a href='vscode-notebook-cell:/Users/wanermiranda/projects/owl-dash2/markI/owl_mark_i/apps/home/sandbox.ipynb#ch0000007?line=0'>1</a>\u001b[0m dataclass\u001b[39m.\u001b[39;49mfields(Feature)\n",
      "\u001b[0;31mAttributeError\u001b[0m: 'function' object has no attribute 'fields'"
     ]
    }
   ],
   "source": [
    "dataclass.fields(Feature)"
   ]
  }
 ],
 "metadata": {
  "interpreter": {
   "hash": "3d362ac4073bf94a884135420729a54cdfef2650a8e655bfe076d23f3350787d"
  },
  "kernelspec": {
   "display_name": "Python 3.8.0 ('owl-markI')",
   "language": "python",
   "name": "python3"
  },
  "language_info": {
   "codemirror_mode": {
    "name": "ipython",
    "version": 3
   },
   "file_extension": ".py",
   "mimetype": "text/x-python",
   "name": "python",
   "nbconvert_exporter": "python",
   "pygments_lexer": "ipython3",
   "version": "3.8.0"
  },
  "orig_nbformat": 4
 },
 "nbformat": 4,
 "nbformat_minor": 2
}
